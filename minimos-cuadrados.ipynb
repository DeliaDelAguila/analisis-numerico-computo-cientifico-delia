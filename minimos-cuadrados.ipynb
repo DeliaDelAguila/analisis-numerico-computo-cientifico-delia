{
 "cells": [
  {
   "cell_type": "code",
   "execution_count": 1,
   "metadata": {},
   "outputs": [
    {
     "name": "stdout",
     "output_type": "stream",
     "text": [
      "[[ 1  8 17]\n",
      " [ 2  9 38]\n",
      " [ 3 10 29]]\n"
     ]
    }
   ],
   "source": [
    "import numpy as np\n",
    "import math\n",
    "A = np.array([[1, 8, 17], \n",
    "    [2, 9, 38],\n",
    "    [3,10,29]])\n",
    "print(A)"
   ]
  },
  {
   "cell_type": "code",
   "execution_count": 2,
   "metadata": {},
   "outputs": [],
   "source": [
    "def p_svd(A):\n",
    "    n = A.shape[1]\n",
    "    \n",
    "    # Valores singulares de A\n",
    "    AtA = np.matmul(A.transpose(),A)\n",
    "    sv = map(math.sqrt,map(abs, np.linalg.eig(AtA)[0]))\n",
    "    \n",
    "    # Calculo de S\n",
    "    S = np.eye(n)*np.tile(sv,(n,1))\n",
    "    \n",
    "    # Eigenvectores y V\n",
    "    V = np.linalg.eig(AtA)[1]\n",
    "    \n",
    "    # Calculo de U\n",
    "    U = np.matmul(A,np.matmul(V,np.linalg.inv(S)))\n",
    "    \n",
    "    svd = [U,S,V]\n",
    "    \n",
    "    return svd\n"
   ]
  },
  {
   "cell_type": "code",
   "execution_count": 3,
   "metadata": {},
   "outputs": [],
   "source": [
    "Asvd = p_svd(A)"
   ]
  },
  {
   "cell_type": "code",
   "execution_count": 4,
   "metadata": {},
   "outputs": [
    {
     "data": {
      "text/plain": [
       "array([[ 1.,  8., 17.],\n",
       "       [ 2.,  9., 38.],\n",
       "       [ 3., 10., 29.]])"
      ]
     },
     "execution_count": 4,
     "metadata": {},
     "output_type": "execute_result"
    }
   ],
   "source": [
    "# Prueba SVD\n",
    "np.matmul(Asvd[0],np.matmul(Asvd[1],Asvd[2].transpose()))"
   ]
  },
  {
   "cell_type": "code",
   "execution_count": 5,
   "metadata": {},
   "outputs": [
    {
     "name": "stdout",
     "output_type": "stream",
     "text": [
      "[ 5  3 -2]\n"
     ]
    }
   ],
   "source": [
    "# Prueba minimos cuadrados\n",
    "A = np.array([[1,1,1], \n",
    "    [0,2,5],\n",
    "    [2,5,-1]])\n",
    "x = np.array([5,3,-2])\n",
    "print(x)\n",
    "b = np.matmul(A,x)"
   ]
  },
  {
   "cell_type": "code",
   "execution_count": 6,
   "metadata": {},
   "outputs": [
    {
     "data": {
      "text/plain": [
       "array([ 5.,  3., -2.])"
      ]
     },
     "execution_count": 6,
     "metadata": {},
     "output_type": "execute_result"
    }
   ],
   "source": [
    "def p_mc(A,b):\n",
    "    A_svd = p_svd(A)\n",
    "    x = np.matmul(A_svd[2],np.matmul(np.linalg.inv(A_svd[1]),np.matmul(A_svd[0].transpose(),b)))\n",
    "    return x\n",
    "\n",
    "p_mc(A,b)"
   ]
  }
 ],
 "metadata": {
  "kernelspec": {
   "display_name": "Python 2",
   "language": "python",
   "name": "python2"
  },
  "language_info": {
   "codemirror_mode": {
    "name": "ipython",
    "version": 2
   },
   "file_extension": ".py",
   "mimetype": "text/x-python",
   "name": "python",
   "nbconvert_exporter": "python",
   "pygments_lexer": "ipython2",
   "version": "2.7.15"
  }
 },
 "nbformat": 4,
 "nbformat_minor": 2
}
