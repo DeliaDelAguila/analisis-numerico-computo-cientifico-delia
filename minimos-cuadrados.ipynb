{
 "cells": [
  {
   "cell_type": "code",
   "execution_count": 41,
   "metadata": {},
   "outputs": [
    {
     "name": "stdout",
     "output_type": "stream",
     "text": [
      "[[ 1  8 17]\n",
      " [ 2  9 38]\n",
      " [ 3 10 29]]\n"
     ]
    }
   ],
   "source": [
    "import numpy as np\n",
    "import math\n",
    "A = np.array([[1, 8, 17], \n",
    "    [2, 9, 38],\n",
    "    [3,10,29]])\n",
    "print(A)"
   ]
  },
  {
   "cell_type": "code",
   "execution_count": 94,
   "metadata": {},
   "outputs": [],
   "source": [
    "def p_svd(A):\n",
    "    n = A.shape[1]\n",
    "    \n",
    "    # Valores singulares de A\n",
    "    AtA = np.matmul(A.transpose(),A)\n",
    "    sv = map(math.sqrt,map(abs, np.linalg.eig(AtA)[0]))\n",
    "    \n",
    "    # Calculo de S\n",
    "    S = np.eye(n)*np.tile(sv,(n,1))\n",
    "    \n",
    "    # Eigenvectores y V\n",
    "    V = np.linalg.eig(AtA)[1]\n",
    "    \n",
    "    # Calculo de U\n",
    "    U = np.matmul(A,np.matmul(V,np.linalg.inv(S)))\n",
    "    \n",
    "    svd = [U,S,V]\n",
    "    \n",
    "    return svd\n"
   ]
  },
  {
   "cell_type": "code",
   "execution_count": 95,
   "metadata": {},
   "outputs": [
    {
     "data": {
      "text/plain": [
       "[array([[ 0.35057526, -0.61648014, -0.70501718],\n",
       "        [ 0.73534538, -0.28498942,  0.61485624],\n",
       "        [ 0.5799691 ,  0.73398451, -0.35341559]]),\n",
       " array([[53.07660069,  0.        ,  0.        ],\n",
       "        [ 0.        ,  1.02782934,  0.        ],\n",
       "        [ 0.        ,  0.        ,  3.84941898]]),\n",
       " array([[ 0.06709498,  0.9879992 , -0.13912527],\n",
       "        [ 0.28680061, -0.15265252, -0.94574976],\n",
       "        [ 0.95563784, -0.02355385,  0.29360099]])]"
      ]
     },
     "execution_count": 95,
     "metadata": {},
     "output_type": "execute_result"
    }
   ],
   "source": [
    "p_svd(A)"
   ]
  },
  {
   "cell_type": "code",
   "execution_count": 84,
   "metadata": {},
   "outputs": [
    {
     "data": {
      "text/plain": [
       "array([[ 1.,  8., 17.],\n",
       "       [ 2.,  9., 38.],\n",
       "       [ 3., 10., 29.]])"
      ]
     },
     "execution_count": 84,
     "metadata": {},
     "output_type": "execute_result"
    }
   ],
   "source": [
    "np.matmul(svd[0],np.matmul(svd[1],svd[2].transpose()))\n"
   ]
  },
  {
   "cell_type": "code",
   "execution_count": null,
   "metadata": {},
   "outputs": [],
   "source": []
  }
 ],
 "metadata": {
  "kernelspec": {
   "display_name": "Python 2",
   "language": "python",
   "name": "python2"
  },
  "language_info": {
   "codemirror_mode": {
    "name": "ipython",
    "version": 2
   },
   "file_extension": ".py",
   "mimetype": "text/x-python",
   "name": "python",
   "nbconvert_exporter": "python",
   "pygments_lexer": "ipython2",
   "version": "2.7.15"
  }
 },
 "nbformat": 4,
 "nbformat_minor": 2
}
